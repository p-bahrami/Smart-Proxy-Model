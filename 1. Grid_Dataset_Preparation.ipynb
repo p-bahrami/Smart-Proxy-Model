{
 "cells": [
  {
   "cell_type": "markdown",
   "metadata": {},
   "source": [
    "##  This Section is for extracting data from all text files, and creating the dataset"
   ]
  },
  {
   "cell_type": "markdown",
   "metadata": {},
   "source": [
    "### <u>Imports<u>"
   ]
  },
  {
   "cell_type": "code",
   "execution_count": 1,
   "metadata": {},
   "outputs": [],
   "source": [
    "import numpy as np\n",
    "import pandas as pd\n",
    "import re\n",
    "from itertools import product\n",
    "from pandas import Series\n",
    "from sklearn.preprocessing import MinMaxScaler\n",
    "\n",
    "# For feature ranking \n",
    "from sklearn.datasets import make_regression\n",
    "from sklearn.ensemble import RandomForestRegressor\n",
    "from matplotlib import pyplot\n",
    "import warnings; warnings.simplefilter('ignore')"
   ]
  },
  {
   "cell_type": "markdown",
   "metadata": {},
   "source": [
    "### <u>Inputs<u>"
   ]
  },
  {
   "cell_type": "code",
   "execution_count": 2,
   "metadata": {},
   "outputs": [
    {
     "name": "stdout",
     "output_type": "stream",
     "text": [
      "No. grids before filtering (for 1 run):   680400\n",
      "No. grids before filtering (for all run): 10206000\n"
     ]
    }
   ],
   "source": [
    "nx = 108               #number of grids in x-direction\n",
    "ny = 100               #number of grids in y-direction\n",
    "nz = 63                #number of grids in z-direction\n",
    "nruns = 15             #number of LHS points that is used to initially run the Eclipse\n",
    "nt = nx * ny * nz\n",
    "print(\"No. grids before filtering (for 1 run):   \" + str(nt))\n",
    "print(\"No. grids before filtering (for all run): \" + str(nt*nruns))"
   ]
  },
  {
   "cell_type": "markdown",
   "metadata": {},
   "source": [
    "### <u>Functions<u>"
   ]
  },
  {
   "cell_type": "code",
   "execution_count": 3,
   "metadata": {},
   "outputs": [],
   "source": [
    "# function for reading the text files and extracting the numbers\n",
    "def splitter(file):\n",
    "\n",
    "    lines = file.readlines()\n",
    "    B = [x for x in lines if not x.startswith('--')]\n",
    "    C = \" \".join(B)\n",
    "    nums = []\n",
    "    #                            3*4.52          4*0       0\\n    24*0.00       4.235e-10 or 4.235E-10          5e-10 or 5E-10 \n",
    "    for n in re.findall(r'\\d+\\*\\d*\\.\\d+|\\d+\\*[-+]\\d+\\.\\d+|\\d+\\*\\d+|[0]\\|[0]\\n|\\d+\\.\\d+(?:e[+-]\\d+|E[-+]\\d+)?|\\d+(?:e[+-]\\d+|E[-+]\\d+)?', C):\n",
    "        split_by_ast = n.split(\"*\")\n",
    "        if len(split_by_ast) == 1:\n",
    "            nums += [float(split_by_ast[0])]\n",
    "        else:\n",
    "            nums += [float(split_by_ast[1])] * int(split_by_ast[0])\n",
    "    return nums\n",
    "\n",
    "\n",
    "def repeat(x):\n",
    "    A = list(np.array(x)[actives])*nruns\n",
    "    B = np.array(A)\n",
    "    return B"
   ]
  },
  {
   "cell_type": "markdown",
   "metadata": {},
   "source": [
    "### <u>Finding the Active Grids<u>"
   ]
  },
  {
   "cell_type": "code",
   "execution_count": 4,
   "metadata": {
    "scrolled": true
   },
   "outputs": [
    {
     "name": "stdout",
     "output_type": "stream",
     "text": [
      "No. grids after filtering (for 1 run):   61416\n",
      "No. grids after filtering (for all run): 921240\n"
     ]
    }
   ],
   "source": [
    "a = open('C:/Users/pymnb/Downloads/VOLVE/15/features/001.soil.for.location.txt', 'r')\n",
    "\n",
    "SOIL = np.array(splitter(a)).reshape((nt, 1), order='F')\n",
    "SOIL[SOIL < 0.053] = 0\n",
    "\n",
    "#removing a few grids where they were out of the main reservoir in VOLVE field\n",
    "indices = [554377, 565177, 575977, 576085, 586777, 586885, 597577, 597685, 608377, 608485, 619177,\\\n",
    "619285, 629977, 630085, 640777, 640885, 651577, 651685, 662377, 662485, 673177, 673285]\n",
    "\n",
    "SOIL[indices]=0\n",
    "actives = np.where(SOIL!=0)[0]\n",
    "#np.savetxt('active_cells_index', active)\n",
    "\n",
    "#Tot_grids = len(active)*nruns\n",
    "\n",
    "print(\"No. grids after filtering (for 1 run):   \" + str(actives.shape[0]))\n",
    "print(\"No. grids after filtering (for all run): \" + str(actives.shape[0]*nruns))"
   ]
  },
  {
   "cell_type": "markdown",
   "metadata": {},
   "source": [
    "# <u>Extraction of Parameters<u>"
   ]
  },
  {
   "cell_type": "markdown",
   "metadata": {},
   "source": [
    "### i, j, k"
   ]
  },
  {
   "cell_type": "code",
   "execution_count": 5,
   "metadata": {},
   "outputs": [],
   "source": [
    "T1 = sorted(list(product(range(1,nx+1), range(1,ny+1), range(1,nz+1))), key=lambda x: (x[2], x[1], x[0]))\n",
    "ijk_all = [list(x) for x in T1]\n",
    "\n",
    "ijk = repeat(ijk_all)"
   ]
  },
  {
   "cell_type": "markdown",
   "metadata": {},
   "source": [
    "### x, y, z"
   ]
  },
  {
   "cell_type": "code",
   "execution_count": 6,
   "metadata": {},
   "outputs": [],
   "source": [
    "# Expanding x,y,z to all gridblocks\n",
    "\n",
    "a1 = open('C:/Users/pymnb/Downloads/VOLVE/15/features/002.xcord.txt', 'r')\n",
    "b1 = open('C:/Users/pymnb/Downloads/VOLVE/15/features/003.ycord.txt', 'r')\n",
    "c1 = open('C:/Users/pymnb/Downloads/VOLVE/15/features/004.zcord.txt', 'r')\n",
    "\n",
    "xcord = np.array(list(np.array(splitter(a1))[actives])*nruns).reshape(actives.shape[0]*nruns,1)\n",
    "ycord = np.array(list(np.array(splitter(b1))[actives])*nruns).reshape(actives.shape[0]*nruns,1)\n",
    "zcord = np.array(list(np.array(splitter(c1))[actives])*nruns).reshape(actives.shape[0]*nruns,1)"
   ]
  },
  {
   "cell_type": "markdown",
   "metadata": {},
   "source": [
    "### Grid Type"
   ]
  },
  {
   "cell_type": "code",
   "execution_count": 7,
   "metadata": {},
   "outputs": [],
   "source": [
    "# injectors and producers wellpathes through grids\n",
    "\n",
    "# For injectors\n",
    "a2 = \" \".join(open('C:/Users/pymnb/Downloads/VOLVE/15/features/005.IF1B_path.txt', 'r').readlines())\n",
    "a3 = \" \".join(open('C:/Users/pymnb/Downloads/VOLVE/15/features/005.IF4_path.txt', 'r').readlines())\n",
    "a4 = \" \".join(open('C:/Users/pymnb/Downloads/VOLVE/15/features/005.IF5_path.txt', 'r').readlines())\n",
    "\n",
    "a2, a3, a4 = (re.findall(r'\\d+', a2)) , (re.findall(r'\\d+', a3)), (re.findall(r'\\d+', a4))  # it generates a list of strings\n",
    "a2, a3, a4 = list(map(int, a2)), list(map(int, a3)), list(map(int, a4))     # it generates a list of numbers\n",
    "inj_path_IF1B = np.array(a2).reshape((58,3), order = 'C')\n",
    "inj_path_IF4 = np.array(a3).reshape((62,3), order = 'C')\n",
    "inj_path_IF5 = np.array(a4).reshape((63,3), order = 'C')\n",
    "inj_path = np.concatenate([inj_path_IF1B, inj_path_IF4, inj_path_IF5], axis=0)\n",
    "\n",
    "# For producers\n",
    "b2 = \" \".join(open('C:/Users/pymnb/Downloads/VOLVE/15/features/006.PF1C_path.txt', 'r').readlines())\n",
    "b3 = \" \".join(open('C:/Users/pymnb/Downloads/VOLVE/15/features/006.PF11B_path.txt', 'r').readlines())\n",
    "b4 = \" \".join(open('C:/Users/pymnb/Downloads/VOLVE/15/features/006.PF12_path.txt', 'r').readlines())\n",
    "b5 = \" \".join(open('C:/Users/pymnb/Downloads/VOLVE/15/features/006.PF14_path.txt', 'r').readlines())\n",
    "b6 = \" \".join(open('C:/Users/pymnb/Downloads/VOLVE/15/features/006.PF15C_path.txt', 'r').readlines())\n",
    "\n",
    "b2, b3, b4, b5, b6 = (re.findall(r'\\d+', b2)), (re.findall(r'\\d+', b3)), (re.findall(r'\\d+', b4)),\\\n",
    "                     (re.findall(r'\\d+', b5)), (re.findall(r'\\d+', b6))\n",
    "b2, b3, b4, b5, b6 = list(map(int, b2)), list(map(int, b3)), list(map(int, b4)), list(map(int, b5)), list(map(int, b6))\n",
    "prod_path_PF1C = np.array(b2).reshape((103,3), order = 'C')\n",
    "prod_path_PF11B = np.array(b3).reshape((91,3), order = 'C')\n",
    "prod_path_PF12 = np.array(b4).reshape((52,3), order = 'C')\n",
    "prod_path_PF14 = np.array(b5).reshape((112,3), order = 'C')\n",
    "prod_path_PF15C = np.array(b6).reshape((49,3), order = 'C')\n",
    "prod_path = np.concatenate([prod_path_PF1C, prod_path_PF11B, prod_path_PF12, prod_path_PF14, prod_path_PF15C], axis=0)\n",
    "\n",
    "df_path_PF1C, df_path_PF11B, df_path_PF12, df_path_PF14, df_path_PF15C = pd.DataFrame(prod_path_PF1C),\\\n",
    "                                                        pd.DataFrame(prod_path_PF11B), pd.DataFrame(prod_path_PF12),\\\n",
    "                                                        pd.DataFrame(prod_path_PF14), pd.DataFrame(prod_path_PF15C)\n",
    "df_path_IF1B, df_path_IF4, df_path_IF5 = pd.DataFrame(inj_path_IF1B), pd.DataFrame(inj_path_IF4), pd.DataFrame(inj_path_IF5)"
   ]
  },
  {
   "cell_type": "code",
   "execution_count": 8,
   "metadata": {},
   "outputs": [],
   "source": [
    "# create the column for grid type (nothing =1 , injector = 2 , producers = 3)\n",
    "\n",
    "loc_inj  = np.argwhere((np.array(ijk_all)[actives] ==  inj_path[:, None]).all(axis=2))[:, 1]\n",
    "\n",
    "loc_prod = np.argwhere((np.array(ijk_all)[actives] == prod_path[:, None]).all(axis=2))[:, 1]\n",
    "\n",
    "grid_type = (np.ones((len(actives)), dtype=int)).tolist()\n",
    "\n",
    "for i in loc_inj:\n",
    "    grid_type[i] = 2\n",
    "\n",
    "for i in loc_prod:\n",
    "    grid_type[i] = 3\n",
    "\n",
    "grid_type = np.array(list(np.array(grid_type).reshape(len(actives),1))*nruns)     # column for 15 runs"
   ]
  },
  {
   "cell_type": "markdown",
   "metadata": {},
   "source": [
    "### Distance to Faults"
   ]
  },
  {
   "cell_type": "code",
   "execution_count": 9,
   "metadata": {},
   "outputs": [],
   "source": [
    "# Distances of grids to the nearest fault\n",
    "\n",
    "f = open('C:/Users/pymnb/Downloads/VOLVE/15/features/007.D_faults.txt', 'r')\n",
    "\n",
    "D_faults = repeat(splitter(f)).reshape(actives.shape[0]*nruns,1)"
   ]
  },
  {
   "cell_type": "markdown",
   "metadata": {},
   "source": [
    "### Distance to Producers/Injectors"
   ]
  },
  {
   "cell_type": "code",
   "execution_count": 10,
   "metadata": {},
   "outputs": [],
   "source": [
    "# Distances of grids to the injecors and producers\n",
    "\n",
    "D = {}\n",
    "#              D0          D1            D2           D3            D4              D5           D6              D7\n",
    "names1 = ['008.D_IF1B', '009.D_IF4', '010.D_IF5', '011.D_PF1C', '012.D_PF11B', '013.D_PF12', '014.D_PF14', '015.D_PF15C']\n",
    "\n",
    "for idx,name in enumerate(names1):\n",
    "    with open('C:/Users/pymnb/Downloads/VOLVE/15/features/'+name+'.txt','r') as Dis:\n",
    "        D['D'+str(idx)] = np.array(splitter(Dis)).reshape((nt, 1), order='F')\n",
    "\n",
    "# Create columns of Distances for 1 run\n",
    "D_inj  = np.sort(np.concatenate([ D['D0'], D['D1'], D['D2'] ], axis=1))   \n",
    "D_prod = np.sort(np.concatenate([ D['D3'], D['D4'], D['D5'], D['D6'], D['D7'] ], axis=1))\n",
    "\n",
    "# Create columns of Distances for all run\n",
    "D_prod = D_prod[:,0:3]    # choose 1st, 2nd, 3rd COWPROD\n",
    "D_inj  = repeat(D_inj)\n",
    "D_prod = repeat(D_prod)"
   ]
  },
  {
   "cell_type": "markdown",
   "metadata": {},
   "source": [
    "### Other Static Characteristics"
   ]
  },
  {
   "cell_type": "code",
   "execution_count": 11,
   "metadata": {},
   "outputs": [],
   "source": [
    "# Different static parameters\n",
    "\n",
    "s = {}\n",
    "#            s0           s1        s2         s3          s4          s5         s6          s7      \n",
    "names2 = ['016.ver_H','017.str_H','018.vol','019.angle','020.NTG','021.permx','022.permy','023.permz',\\\n",
    "         '024.poro','025.tranx','026.trany','027.tranz']\n",
    "#            s8          s9           s10         s11\n",
    "\n",
    "for idx,name in enumerate(names2):\n",
    "    with open('C:/Users/pymnb/Downloads/VOLVE/15/features/'+name+'.txt','r') as f:\n",
    "        s['s'+str(idx)] = np.array(splitter(f)).reshape(nt,1)\n",
    "\n",
    "s_features = np.concatenate([ s['s0'], s['s1'], s['s2'], s['s3'], s['s5'], s['s6'], s['s7'],\\\n",
    "                              s['s8'], s['s9'], s['s10'],s['s11'] ], axis=1)\n",
    "s_features  = repeat(s_features)"
   ]
  },
  {
   "cell_type": "markdown",
   "metadata": {},
   "source": [
    "### Initial State for Dynamic Parameters"
   ]
  },
  {
   "cell_type": "code",
   "execution_count": 12,
   "metadata": {},
   "outputs": [],
   "source": [
    "# initial state of dynamic parameters\n",
    "I = {}\n",
    "#            I0                 I1\n",
    "names3 = ['028.SO_initial', '029.P_initial']\n",
    "\n",
    "for idx,name in enumerate(names3):\n",
    "    with open('C:/Users/pymnb/Downloads/VOLVE/15/features/'+name+'.txt','r') as i:\n",
    "        I['I'+str(idx)] = np.array(splitter(i)).reshape(nt,1)\n",
    "\n",
    "ini_SO, ini_P = I['I0'], I['I1']\n",
    "\n",
    "#ini_features = np.conI['I1']catenate([ I['I0'], I['I1']], axis=1)\n",
    "ini_SO, ini_P  = repeat(ini_SO), repeat(ini_P)\n",
    "ini_SO[ini_SO<0.001] = 0"
   ]
  },
  {
   "cell_type": "markdown",
   "metadata": {},
   "source": [
    "### Sample Points"
   ]
  },
  {
   "cell_type": "code",
   "execution_count": 13,
   "metadata": {},
   "outputs": [],
   "source": [
    "# LHS points\n",
    "pf11b_rates = [68,   2142, 1956, 4964, 3336, 1434, 4118, 2812, 866,  3781, 364,  4470, 1218, 3278, 2653]\n",
    "pf12_rates  = [1521, 4936, 2416, 3812, 3098, 848,  1084, 134,  4257, 2911, 423,  4558, 3407, 1970, 2091]\n",
    "pf14_rates  = [2632, 1268, 4764, 4282, 882,  321,  2001, 3894, 3473, 1502, 4484, 605,  3205, 1981, 2815]\n",
    "pf1c_rates  = [3665, 4450, 3134, 2601, 1688, 2305, 4915, 1308, 921,  240,  596,  4032, 3697, 1536, 2972]\n",
    "pf15c_rates = [4027, 1942, 323,  3153, 4887, 1386, 2003, 3966, 2850, 777,  412,  4589, 1114, 3467, 2458]\n",
    "\n",
    "L = len(actives)\n",
    "Tot_grids = L*nruns\n",
    "\n",
    "pf11b_rep = np.zeros((Tot_grids, 1))\n",
    "pf12_rep  = np.zeros((Tot_grids, 1))\n",
    "pf14_rep  = np.zeros((Tot_grids, 1))\n",
    "pf1c_rep  = np.zeros((Tot_grids, 1))\n",
    "pf15c_rep = np.zeros((Tot_grids, 1))\n",
    "\n",
    "for i in range(1,nruns+1):\n",
    "    pf11b_rep[len(actives)*(i-1):(len(actives)*i)+1,:]  = pf11b_rates[i-1]\n",
    "    pf12_rep[len(actives)*(i-1):(len(actives)*i)+1,:]   = pf12_rates[i-1]\n",
    "    pf14_rep[len(actives)*(i-1):(len(actives)*i)+1,:]   = pf14_rates[i-1]\n",
    "    pf1c_rep[len(actives)*(i-1):(len(actives)*i)+1,:]   = pf1c_rates[i-1]\n",
    "    pf15c_rep[len(actives)*(i-1):(len(actives)*i)+1,:]  = pf15c_rates[i-1]"
   ]
  },
  {
   "cell_type": "markdown",
   "metadata": {},
   "source": [
    "### Dynamic Parameters (outputs)"
   ]
  },
  {
   "cell_type": "code",
   "execution_count": 14,
   "metadata": {},
   "outputs": [
    {
     "name": "stdout",
     "output_type": "stream",
     "text": [
      "(921240, 40)\n"
     ]
    }
   ],
   "source": [
    "so = open('C:/Users/pymnb/Downloads/VOLVE/15/features/030.SO.txt', 'r')\n",
    "p  = open('C:/Users/pymnb/Downloads/VOLVE/15/features/031.P.txt', 'r')\n",
    "\n",
    "so = np.array(splitter(so)).reshape((nx*ny*nz, 40, nruns), order=\"F\")\n",
    "p = np.array(splitter(p)).reshape((nx*ny*nz, 40, nruns), order=\"F\")\n",
    "\n",
    "Z1, Z2 = np.zeros((nt*nruns,1)), np.zeros((nt*nruns,1))\n",
    "\n",
    "for i in range(0,40):\n",
    "    H1, H2 = so[:,i,:], p[:,i,:]\n",
    "    H1, H2 = H1.reshape([nt*nruns, 1], order=\"F\"), H2.reshape([nt*nruns, 1], order=\"F\")\n",
    "    \n",
    "    SOIL, P = np.concatenate([Z1, H1], axis=1), np.concatenate([Z2, H2], axis=1)\n",
    "                        \n",
    "    Z1, Z2 = SOIL, P\n",
    "\n",
    "SOIL, P = SOIL[:, 1:40+1], P[:, 1:40+1]\n",
    "SOIL[SOIL < 0.001] = 0\n",
    "\n",
    "ini = actives\n",
    "\n",
    "for j in range(1,nruns):\n",
    "    F = np.concatenate([ini, (actives+nt*j)], axis=0)\n",
    "    ini = F\n",
    "\n",
    "SOIL_f, P_f = SOIL[F], P[F]\n",
    "print(SOIL_f.shape)"
   ]
  },
  {
   "cell_type": "markdown",
   "metadata": {},
   "source": [
    "### Dataset (Only Inputs)"
   ]
  },
  {
   "cell_type": "code",
   "execution_count": 15,
   "metadata": {
    "scrolled": true
   },
   "outputs": [],
   "source": [
    "Dataset_statics_SO =np.concatenate([ijk, xcord, ycord, zcord, grid_type, D_faults, D_inj, D_prod,s_features, ini_SO], axis = 1)\n",
    "Dataset_statics_P = np.concatenate([ijk, xcord, ycord, zcord, grid_type, D_faults, D_inj, D_prod,s_features, ini_P], axis = 1)\n",
    "\n",
    "Dataset_inputs_SO = np.concatenate([Dataset_statics_SO, pf11b_rep, pf12_rep, pf14_rep, pf1c_rep, pf15c_rep], axis = 1)\n",
    "Dataset_inputs_P = np.concatenate([Dataset_statics_P, pf11b_rep, pf12_rep, pf14_rep, pf1c_rep, pf15c_rep], axis = 1)\n",
    "\n",
    "Dataset_SO = pd.DataFrame(np.concatenate([Dataset_inputs_SO, SOIL_f], axis=1))\n",
    "Dataset_P = pd.DataFrame(np.concatenate([Dataset_inputs_P, P_f], axis=1))\n",
    "header = [\"i\", \"j\", \"k\", \"X\", \"Y\", \"Z\", \"Type\", \"D_faults\", \"D_inj1\", \"D_inj2\", \"D_inj2\", \"D_prod1\", \"D_prod2\", \"D_prod3\",\\\n",
    "          \"Ver_H\", \"Str_H\", \"Vol\", \"Angle\", \"PermX\", \"PermY\", \"PermZ\", \"Porosity\", \"TransX\", \"TransY\", \"TransZ\", \"initial SO/P\",\\\n",
    "          \"rate_f11b\", \"rate_f12\", \"rate_f14\", \"rate_f1c\", \"rate_f15c\",\\\n",
    "          \"T1\", \"T2\", \"T3\", \"T4\", \"T5\", \"T6\", \"T7\", \"T8\", \"T9\", \"T10\", \"T11\", \"T12\", \"T13\", \"T14\", \"T15\", \"T16\", \"T17\",\\\n",
    "          \"T18\", \"T19\", \"T20\", \"T21\", \"T22\", \"T23\", \"T24\", \"T25\", \"T26\", \"T27\", \"T28\", \"T29\", \"T30\", \"T31\", \"T32\", \"T33\",\\\n",
    "          \"T34\", \"T35\", \"T36\", \"T37\", \"T38\", \"T39\", \"T40\"]\n",
    "Dataset_SO.columns = header\n",
    "Dataset_P.columns = header\n",
    "\n",
    "#Dataset_SO.to_csv('C:/Users/pymnb/Downloads/VOLVE/15/Datasets/Dataset_SO.csv', index=False, header=True)\n",
    "#Dataset_P.to_csv('C:/Users/pymnb/Downloads/VOLVE/15/Datasets/Dataset_P.csv', index=False, header=True)"
   ]
  },
  {
   "cell_type": "markdown",
   "metadata": {},
   "source": [
    "### Normalization (Only Inputs)"
   ]
  },
  {
   "cell_type": "code",
   "execution_count": 17,
   "metadata": {},
   "outputs": [],
   "source": [
    "################################## normalization of parameter 1 to 26 ###########################################\n",
    "No_statics = 26\n",
    "No_lhs = 5\n",
    "No_inputs = No_statics + No_lhs\n",
    "\n",
    "Dataframe = pd.DataFrame(Dataset_inputs_P)\n",
    "\n",
    "minn, maxx = Dataframe.min(), Dataframe.max()\n",
    "norm_static = np.array((Dataframe - minn)/(maxx - minn))[:,0:No_statics]\n",
    "#pd.DataFrame(norm_static[0:actives.shape[0],:]).to_csv('C:/Users/pymnb/Downloads/VOLVE/15/seg_statics_P.csv', index=False, header=None)\n",
    "\n",
    "######################################## normalization of parametrs 27 to 31  ##################################\n",
    "\n",
    "ranges = np.array([[0,5000],[0,5000],[0,5000],[0,5000],[0,5000]])\n",
    "\n",
    "for k in range(0, No_lhs):\n",
    "    norm_LHS = np.array((Dataframe.loc[:, No_statics+k]-ranges[k,0])/(ranges[k,1]-ranges[k,0])).reshape(actives.shape[0]*nruns,1)\n",
    "    norm_all = np.concatenate([norm_static, norm_LHS], axis=1)\n",
    "    norm_static = norm_all\n",
    "        \n",
    "mins = np.array(minn).reshape(No_inputs,1)[0:No_statics,:]\n",
    "maxs = np.array(maxx).reshape(No_inputs,1)[0:No_statics,:]\n",
    "min_max1 = np.concatenate([mins, maxs], axis=1)\n",
    "min_max_t = np.concatenate([min_max1, np.array(ranges)], axis=0)\n",
    "\n",
    "#pd.DataFrame(min_max_t).to_csv('C:/Users/pymnb/Downloads/VOLVE/15/min_max_P.csv', index=False, header=None)"
   ]
  },
  {
   "cell_type": "markdown",
   "metadata": {},
   "source": [
    "### Full Dataset (Normalized Inputs + Outputs)"
   ]
  },
  {
   "cell_type": "code",
   "execution_count": 27,
   "metadata": {},
   "outputs": [],
   "source": [
    "# Full Dataset\n",
    "Dataset_SOn = np.concatenate([norm_all, SOIL_f], axis=1)\n",
    "#Dataset_Pn  = np.concatenate([norm_all,    P_f], axis=1)\n",
    "\n",
    "# Segment Dataset\n",
    "#Dataset_SO_Seg, Dataset_P_Seg = Dataset_SOn[0:actives.shape[0],:], Dataset_Pn[0:actives.shape[0],:]\n",
    "\n",
    "# Dataset in Original Format\n",
    "pd.DataFrame(Dataset_SOn).to_csv('C:/Users/pymnb/Downloads/VOLVE/15/Datasets/Dataset_SOn.csv', index=False, header=None)\n",
    "#pd.DataFrame(Dataset_Pn).to_csv('C:/Users/pymnb/Downloads/VOLVE/15/Datasets/Dataset_Pn.csv', index=False, header=None)\n",
    "\n",
    "# Dataset in shuffled Format\n",
    "shuffled_SOn = pd.DataFrame(Dataset_SOn).sample(Dataset_SOn.shape[0])\n",
    "#shuffled_Pn = pd.DataFrame(Dataset_Pn).sample(Dataset_Pn.shape[0])\n",
    "shuffled_SOn.to_csv('C:/Users/pymnb/Downloads/VOLVE/15/Datasets/Dataset_SOn_shuffled.csv', index=False, header=None)\n",
    "#shuffled_Pn .to_csv('C:/Users/pymnb/Downloads/VOLVE/15/Datasets/Dataset_Pn_shuffled.csv', index=False, header=None)"
   ]
  },
  {
   "cell_type": "markdown",
   "metadata": {},
   "source": [
    "### Header for the Datasets"
   ]
  },
  {
   "cell_type": "code",
   "execution_count": 25,
   "metadata": {},
   "outputs": [],
   "source": [
    "header = [\"i\", \"j\", \"k\", \"X\", \"Y\", \"Z\", \"Type\", \"D_faults\", \"D_inj1\", \"D_inj2\", \"D_inj2\", \"D_prod1\", \"D_prod2\", \"D_prod3\",\\\n",
    "          \"Ver_H\", \"Str_H\", \"Vol\", \"Angle\", \"PermX\", \"PermY\", \"PermZ\", \"Porosity\", \"TransX\", \"TransY\", \"TransZ\", \"initial SO/P\",\\\n",
    "          \"rate_f11b\", \"rate_f12\", \"rate_f14\", \"rate_f1c\", \"rate_f15c\"\n",
    "          \"T1\", \"T2\", \"T3\", \"T4\", \"T5\", \"T6\", \"T7\", \"T8\", \"T9\", \"T10\", \"T11\", \"T12\", \"T13\", \"T14\", \"T15\", \"T16\", \"T17\",\\\n",
    "          \"T18\", \"T19\", \"T20\", \"T21\", \"T22\", \"T23\", \"T24\", \"T25\", \"T26\", \"T27\", \"T28\", \"T29\", \"T30\", \"T31\", \"T32\", \"T33\",\\\n",
    "          \"T34\", \"T35\", \"T36\", \"T37\", \"T38\", \"T39\", \"T40\"]\n",
    "header_np = np.array(header).reshape(1,71)\n",
    "\n",
    "DATASET_SO = np.concatenate([header_np, Dataset_SOn], axis=0)\n",
    "DATASET_P = np.concatenate([header_np, Dataset_Pn], axis=0)"
   ]
  },
  {
   "cell_type": "markdown",
   "metadata": {},
   "source": [
    "## Feature Importance on Full Dataset"
   ]
  },
  {
   "cell_type": "code",
   "execution_count": 28,
   "metadata": {
    "scrolled": true
   },
   "outputs": [
    {
     "name": "stdout",
     "output_type": "stream",
     "text": [
      "Score: 0.0004, Feature 0: i\n",
      "Score: 0.00023, Feature 1: j\n",
      "Score: 0.00069, Feature 2: k\n",
      "Score: 0.00065, Feature 3: X\n",
      "Score: 0.00041, Feature 4: Y\n",
      "Score: 0.00056, Feature 5: Z\n",
      "Score: 0.00018, Feature 6: Type\n",
      "Score: 0.00057, Feature 7: D_faults\n",
      "Score: 0.00129, Feature 8: D_inj1\n",
      "Score: 0.00042, Feature 9: D_inj2\n",
      "Score: 0.00045, Feature 10: D_prod1\n",
      "Score: 0.00087, Feature 11: D_prod2\n",
      "Score: 0.00093, Feature 12: D_prod3\n",
      "Score: 0.0011, Feature 13: Ver_H\n",
      "Score: 0.00071, Feature 14: Str_H\n",
      "Score: 0.00084, Feature 15: Vol\n",
      "Score: 0.00065, Feature 16: Angle\n",
      "Score: 0.00086, Feature 17: NTG\n",
      "Score: 0.0005, Feature 18: PermX\n",
      "Score: 0.00054, Feature 19: PermY\n",
      "Score: 0.00044, Feature 20: PermZ\n",
      "Score: 0.00054, Feature 21: Porosity\n",
      "Score: 0.00048, Feature 22: Sat_Table\n",
      "Score: 0.0, Feature 23: TransX\n",
      "Score: 0.0, Feature 24: TransY\n",
      "Score: 0.0, Feature 25: TransZ\n",
      "Score: 0.0001, Feature 26: Flux_Region\n",
      "Score: 0.97143, Feature 27: SO_i\n",
      "Score: 0.00011, Feature 28: SG_i\n",
      "Score: 0.00413, Feature 29: SW_i\n",
      "Score: 0.00058, Feature 30: P_i\n",
      "Score: 0.00591, Feature 31: RS_i\n",
      "Score: 0.00028, Feature 32: G_half_cycle\n",
      "Score: 0.0004, Feature 33: W_half_cycle\n",
      "Score: 0.00045, Feature 34: G_inj_rate\n",
      "Score: 0.00035, Feature 35: W_inj_rate\n",
      "Score: 0.00057, Feature 36: BHP_E2H\n",
      "Score: 0.00103, Feature 37: BHP_E3H\n",
      "Score: 0.00033, Feature 38: BHP_E3AH\n"
     ]
    },
    {
     "data": {
      "image/png": "[encoded data removed]",
      "text/plain": [
       "<Figure size 432x288 with 1 Axes>"
      ]
     },
     "metadata": {
      "needs_background": "light"
     },
     "output_type": "display_data"
    }
   ],
   "source": [
    "frac = 0.1     #Fraction of dataset to be used in model training\n",
    "\n",
    "D = pd.DataFrame(Dataset_SOn)                  #Dataframe of the original Dataset\n",
    "D = D.sample(round((Dataset_SOn.shape[0]*frac)))      #Fraction of Dataset\n",
    "#D.to_csv('C:/Users/pymnb/Downloads/WAG Case/10/P_all.csv', index=False, header=True)\n",
    "\n",
    "# define the model\n",
    "model = RandomForestRegressor()\n",
    "\n",
    "# fit the model\n",
    "model.fit(np.array(D)[:,0:No_inputs], np.array(D)[:,No_inputs+1:No_inputs+2])\n",
    "\n",
    "# get importance\n",
    "importance = model.feature_importances_\n",
    "\n",
    "#summarize feature importance\n",
    "for i,v in enumerate(importance):\n",
    "    print('Score: '+ str(round(v,5))+', Feature '+str(i)+': '+header[i])\n",
    "    \n",
    "#plot feature importance\n",
    "pyplot.bar([X_sampled for X_sampled in range(len(importance))], importance)\n",
    "pyplot.show()"
   ]
  },
  {
   "cell_type": "markdown",
   "metadata": {},
   "source": [
    "## Feature Importance in all well Tier regions"
   ]
  },
  {
   "cell_type": "markdown",
   "metadata": {},
   "source": [
    "### <u>Perform the Feature importance and plot it</u>"
   ]
  },
  {
   "cell_type": "code",
   "execution_count": 41,
   "metadata": {},
   "outputs": [
    {
     "name": "stdout",
     "output_type": "stream",
     "text": [
      "Score: 0.00247, Feature 0: i\n",
      "Score: 0.00048, Feature 1: j\n",
      "Score: 0.00425, Feature 2: k\n",
      "Score: 0.00269, Feature 3: X\n",
      "Score: 0.00373, Feature 4: Y\n",
      "Score: 0.01034, Feature 5: Z\n",
      "Score: 5e-05, Feature 6: Type\n",
      "Score: 0.0002, Feature 7: D_faults\n",
      "Score: 0.00234, Feature 8: D_inj1\n",
      "Score: 0.00026, Feature 9: D_inj2\n",
      "Score: 0.01554, Feature 10: D_prod1\n",
      "Score: 0.00036, Feature 11: D_prod2\n",
      "Score: 0.00026, Feature 12: D_prod3\n",
      "Score: 0.00442, Feature 13: Ver_H\n",
      "Score: 0.00473, Feature 14: Str_H\n",
      "Score: 0.00493, Feature 15: Vol\n",
      "Score: 0.00021, Feature 16: Angle\n",
      "Score: 0.00275, Feature 17: NTG\n",
      "Score: 0.00237, Feature 18: PermX\n",
      "Score: 0.00634, Feature 19: PermY\n",
      "Score: 0.00248, Feature 20: PermZ\n",
      "Score: 0.00718, Feature 21: Porosity\n",
      "Score: 0.0036, Feature 22: Sat_Table\n",
      "Score: 0.00658, Feature 23: TransX\n",
      "Score: 0.00444, Feature 24: TransY\n",
      "Score: 0.00545, Feature 25: TransZ\n",
      "Score: 0.16605, Feature 26: Flux_Region\n",
      "Score: 8e-05, Feature 27: SO_i\n",
      "Score: 0.0, Feature 28: SG_i\n",
      "Score: 0.00287, Feature 29: SW_i\n",
      "Score: 0.21586, Feature 30: P_i\n",
      "Score: 0.007, Feature 31: RS_i\n",
      "Score: 0.02382, Feature 32: G_half_cycle\n",
      "Score: 0.00265, Feature 33: W_half_cycle\n",
      "Score: 0.02657, Feature 34: G_inj_rate\n",
      "Score: 0.04384, Feature 35: W_inj_rate\n",
      "Score: 0.00291, Feature 36: BHP_E2H\n",
      "Score: 0.38514, Feature 37: BHP_E3H\n",
      "Score: 0.02475, Feature 38: BHP_E3AH\n"
     ]
    },
    {
     "data": {
      "image/png": "[encoded data removed]",
      "text/plain": [
       "<Figure size 432x288 with 1 Axes>"
      ]
     },
     "metadata": {
      "needs_background": "light"
     },
     "output_type": "display_data"
    }
   ],
   "source": [
    "frac = 1     #Fraction of dataset to be used in model training\n",
    "\n",
    "D = pd.DataFrame(DatasetP2)                  #Dataframe of the original Dataset\n",
    "D = D.sample(round((DatasetP2.shape[0]*frac)))      #Fraction of Dataset\n",
    "#D.to_csv('C:/Users/pymnb/Downloads/WAG Case/15/P_250.csv', index=False, header=None)\n",
    "\n",
    "# define the model\n",
    "model = RandomForestRegressor()\n",
    "\n",
    "# fit the model\n",
    "model.fit(np.array(D)[:,0:No_all], np.array(D)[:,No_all+1:No_all+2])\n",
    "\n",
    "# get importance\n",
    "importance = model.feature_importances_\n",
    "\n",
    "#summarize feature importance\n",
    "for i,v in enumerate(importance):\n",
    "    print('Score: '+ str(round(v,5))+', Feature '+str(i)+': '+header[i])\n",
    "    \n",
    "#plot feature importance\n",
    "pyplot.bar([X_sampled for X_sampled in range(len(importance))], importance)\n",
    "pyplot.show()"
   ]
  }
 ],
 "metadata": {
  "kernelspec": {
   "display_name": "Python 3",
   "language": "python",
   "name": "python3"
  },
  "language_info": {
   "codemirror_mode": {
    "name": "ipython",
    "version": 3
   },
   "file_extension": ".py",
   "mimetype": "text/x-python",
   "name": "python",
   "nbconvert_exporter": "python",
   "pygments_lexer": "ipython3",
   "version": "3.8.8"
  }
 },
 "nbformat": 4,
 "nbformat_minor": 2
}
