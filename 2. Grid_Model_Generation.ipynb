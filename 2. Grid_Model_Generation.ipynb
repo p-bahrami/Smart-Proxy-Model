{
 "cells": [
  {
   "cell_type": "markdown",
   "metadata": {},
   "source": [
    "## This file is for loading the dataset, and constructing underlying models"
   ]
  },
  {
   "cell_type": "markdown",
   "metadata": {},
   "source": [
    "### <u>Imports<u>"
   ]
  },
  {
   "cell_type": "code",
   "execution_count": 1,
   "metadata": {},
   "outputs": [],
   "source": [
    "import pandas as pd\n",
    "import numpy as np\n",
    "\n",
    "# for histogram plot\n",
    "import matplotlib.pyplot as plt\n",
    "import matplotlib.ticker as ticker"
   ]
  },
  {
   "cell_type": "markdown",
   "metadata": {},
   "source": [
    "### <u>Loading the Datasets<u>"
   ]
  },
  {
   "cell_type": "code",
   "execution_count": 2,
   "metadata": {},
   "outputs": [],
   "source": [
    "Dataset_SOn = pd.read_csv('C:/Users/pymnb/Downloads/WAG Case/18/Datasets/Dataset_SOn1.csv', header = None)\n",
    "Dataset_Pn  = pd.read_csv('C:/Users/pymnb/Downloads/WAG Case/18/Datasets/Dataset_Pn1.csv', header = None)\n",
    "\n",
    "#Dataset_SOn_150 = pd.read_csv('C:/Users/pymnb/Downloads/WAG Case/15/Datasets/Dataset_SOn_150.csv', header = None)\n",
    "#Dataset_SOn_250 = pd.read_csv('C:/Users/pymnb/Downloads/WAG Case/15/Datasets/Dataset_SOn_250.csv', header = None)\n",
    "#Dataset_Pn_150 = pd.read_csv('C:/Users/pymnb/Downloads/WAG Case/15/Datasets/Dataset_Pn_150.csv', header = None)\n",
    "#Dataset_Pn_250 = pd.read_csv('C:/Users/pymnb/Downloads/WAG Case/15/Datasets/Dataset_Pn_250.csv', header = None)"
   ]
  },
  {
   "cell_type": "markdown",
   "metadata": {},
   "source": [
    "## Histogram of outputs"
   ]
  },
  {
   "cell_type": "code",
   "execution_count": 3,
   "metadata": {},
   "outputs": [
    {
     "data": {
      "text/plain": [
       "(0.0, 150000.0)"
      ]
     },
     "execution_count": 3,
     "metadata": {},
     "output_type": "execute_result"
    },
    {
     "data": {
      "image/png": "[encoded data removed]",
      "text/plain": [
       "<Figure size 432x288 with 1 Axes>"
      ]
     },
     "metadata": {
      "needs_background": "light"
     },
     "output_type": "display_data"
    }
   ],
   "source": [
    "fig, ax = plt.subplots()\n",
    "\n",
    "Histo_SO = np.array(Dataset_SOn)[:,39:40]\n",
    "Histo_P  = np.array(Dataset_Pn)[:,39:40]\n",
    "\n",
    "#                                                     bar opacity  the bigger, the more splits on x axis\n",
    "plt.hist(Histo_SO, color = 'red', edgecolor = 'black', alpha=0.8,  bins = 30 )\n",
    "plt.xlabel(\"Grid's pressure\")\n",
    "plt.ylabel(\"Frequency\")\n",
    "plt.xlim([0, 1])   #change it depend on the ranges\n",
    "plt.ylim([0, 150000])    #change it depend on the ranges\n",
    "\n",
    "# this line is to show the y axis in K\n",
    "#ax.yaxis.set_major_formatter(ticker.FuncFormatter(lambda y, pos: '%.0fk' % (y * 1e-3)))   \n",
    "#plt.savefig(\"Histogram-P.jpg\")"
   ]
  },
  {
   "cell_type": "markdown",
   "metadata": {},
   "source": [
    "## CNN model"
   ]
  },
  {
   "cell_type": "code",
   "execution_count": 4,
   "metadata": {},
   "outputs": [
    {
     "name": "stdout",
     "output_type": "stream",
     "text": [
      "Model: \"sequential\"\n",
      "_________________________________________________________________\n",
      "Layer (type)                 Output Shape              Param #   \n",
      "=================================================================\n",
      "conv1d (Conv1D)              (None, 30, 90)            990       \n",
      "_________________________________________________________________\n",
      "conv1d_1 (Conv1D)            (None, 21, 87)            78387     \n",
      "_________________________________________________________________\n",
      "conv1d_2 (Conv1D)            (None, 12, 77)            67067     \n",
      "_________________________________________________________________\n",
      "flatten (Flatten)            (None, 924)               0         \n",
      "_________________________________________________________________\n",
      "dense (Dense)                (None, 61)                56425     \n",
      "_________________________________________________________________\n",
      "dense_1 (Dense)              (None, 90)                5580      \n",
      "_________________________________________________________________\n",
      "dense_2 (Dense)              (None, 1)                 91        \n",
      "=================================================================\n",
      "Total params: 208,540\n",
      "Trainable params: 208,540\n",
      "Non-trainable params: 0\n",
      "_________________________________________________________________\n",
      "R2_Training: 0.997819, RMSE_Training : 0.000090\n",
      "R2_Test: 0.991315, RMSE_Test : 0.000360\n"
     ]
    },
    {
     "data": {
      "image/png": "[encoded data removed]",
      "text/plain": [
       "<Figure size 432x288 with 1 Axes>"
      ]
     },
     "metadata": {
      "needs_background": "light"
     },
     "output_type": "display_data"
    },
    {
     "name": "stdout",
     "output_type": "stream",
     "text": [
      "Run Time: 63.0 min\n"
     ]
    }
   ],
   "source": [
    "for step in range(18,19):\n",
    "    \n",
    "    Dataset1 = np.concatenate([np.array(Dataset_SOn)[:,0:39], np.array(Dataset_SOn)[:,(39+step-1):(39+step)]], axis = 1)\n",
    "    \n",
    "    ########################################## Splitting the dataset ##############################################\n",
    "    \n",
    "    from sklearn.model_selection import train_test_split\n",
    "\n",
    "    X = Dataset1[:, 0 :39]\n",
    "    Y = Dataset1[:, 39:40]\n",
    "\n",
    "    Xtrain, Xtest, Ytrain, Ytest = train_test_split(X, Y, test_size=0.2)\n",
    "\n",
    "    Xtrain_CNN = Xtrain.reshape(Xtrain.shape[0], 39, 1)\n",
    "    Ytrain_CNN = Ytrain\n",
    "    Xtest_CNN = Xtest.reshape(Xtest.shape[0], 39, 1)\n",
    "    Ytest_CNN = Ytest\n",
    "\n",
    "    frac_val = 10                                # Enter the fraction of validation set to take from training set \n",
    "    nv = Xtrain.shape[0]//frac_val\n",
    "\n",
    "    Xval = Xtrain[0:nv,:]\n",
    "    Yval = Ytrain[0:nv,:]\n",
    "    Xval_CNN = Xval.reshape(Xval.shape[0], 39, 1)\n",
    "    Yval_CNN = Yval\n",
    "\n",
    "    Xtrain_P = Xtrain[nv:Xtrain.shape[0], :]\n",
    "    Ytrain_P = Ytrain[nv:Ytrain.shape[0], :]\n",
    "    Xtrain_P_CNN = Xtrain_P.reshape(Xtrain_P.shape[0], 39, 1)\n",
    "    Ytrain_P_CNN = Ytrain_P\n",
    "    \n",
    "    ###################################### Defining the function for CNN #########################################\n",
    "    \n",
    "    def CNN(FS1, FS2, FS3, KS, NS1, NS2, Ep, BS, itera): #, partial_xtrain_CNN, partial_ytrain_CNN, xval_CNN, yval_CNN, xtest_CNN, ytest_CNN):\n",
    "        from tensorflow.keras import Sequential\n",
    "        from tensorflow.keras.layers import Dense\n",
    "        from tensorflow.keras.layers import Conv1D\n",
    "        from tensorflow.keras.layers import Flatten\n",
    "        from tensorflow.keras.callbacks import EarlyStopping\n",
    "        from tensorflow.keras.utils import plot_model\n",
    "        from sklearn.metrics import mean_squared_error\n",
    "        from sklearn.metrics import r2_score\n",
    "        import matplotlib.pyplot as plt\n",
    "        from numpy.random import seed\n",
    "        #from tensorflow import set_random_seed\n",
    "        import os\n",
    "        import tensorflow as tf\n",
    "    \n",
    "        from timeit import default_timer as timer\n",
    "        start = timer()\n",
    "        #####################################################################################################\n",
    "        from tensorflow.compat.v1 import ConfigProto, InteractiveSession  #stop the growing RAM for GPU\n",
    "    \n",
    "        config = ConfigProto()\n",
    "        config.gpu_options.allow_growth = True\n",
    "        config.gpu_options.per_process_gpu_memory_fraction = 0.6\n",
    "        sess = InteractiveSession(config=config)\n",
    "        #############################################################################################################\n",
    "        os.environ['PYTHONHASHSEED']=str(1)\n",
    "        np.random.seed(1)\n",
    "        #tf.set_random_seed(1)\\\n",
    "        \n",
    "        for _ in range(0,itera):\n",
    "    \n",
    "            start = timer()\n",
    "\n",
    "############################################### Model Built Up ######################################################\n",
    "\n",
    "            model = Sequential()\n",
    "            model.add(Conv1D(FS1, KS, activation='relu', input_shape=(39,1)))\n",
    "            model.add(Conv1D(FS2, KS, activation='relu', input_shape=(39,1)))\n",
    "            model.add(Conv1D(FS3, KS, activation='relu', input_shape=(39,1)))\n",
    "            model.add(Flatten())\n",
    "            model.add(Dense(NS1, activation='relu'))\n",
    "            model.add(Dense(NS2, activation='relu'))\n",
    "            model.add(Dense(1, activation='linear'))\n",
    "            model.compile(optimizer='adam', loss='mse', metrics=['mean_squared_error'])\n",
    "            model.summary()\n",
    "            \n",
    "            es = EarlyStopping(monitor='val_loss', mode='min', verbose=1, patience=50)\n",
    "    \n",
    "            history = model.fit(Xtrain_P_CNN, Ytrain_P_CNN, epochs=Ep, batch_size=BS, verbose=0,\\\n",
    "            validation_data=(Xval_CNN, Yval_CNN), callbacks=[es])\n",
    "            \n",
    "            model.save('C:/Users/pymnb/Downloads/WAG Case/18/CNN models/CNN_model_SO'+str(step)+'.h5')\n",
    "            #model.save('C:/Users/pymnb/Downloads/WAG Case/18/CNN models/CNN_model_P'+str(step)+'.h5')\n",
    "            \n",
    "            ypred_train = model.predict(Xtrain_P_CNN)\n",
    "            ypred_test = model.predict(Xtest_CNN)\n",
    "    \n",
    "            r2_train = r2_score(Ytrain_P_CNN, ypred_train)\n",
    "            rmse_train = mean_squared_error(Ytrain_P_CNN, ypred_train)\n",
    "            \n",
    "            r2_test = r2_score(Ytest_CNN, ypred_test)\n",
    "            rmse_test = mean_squared_error(Ytest_CNN, ypred_test)\n",
    "    \n",
    "            print( \"R2_Training: {0:f}, RMSE_Training : {1:f}\".format(r2_train, rmse_train))\n",
    "            print( \"R2_Test: {0:f}, RMSE_Test : {1:f}\".format(r2_test, rmse_test))\n",
    "\n",
    "################################################### plotting #########################################################\n",
    "\n",
    "            plt.plot(history.history['loss'])\n",
    "            plt.plot(history.history['val_loss'])\n",
    "            plt.title('model loss')\n",
    "            plt.ylabel('loss')\n",
    "            plt.xlabel('epoch')\n",
    "            plt.legend(['training loss', 'validation loss'], loc='upper left')\n",
    "            plt.show()\n",
    "\n",
    "            end = timer()\n",
    "            print(\"Run Time: \"+str((end - start)//60)+\" min\")\n",
    "            sess.close()\n",
    "    ##############################################################################################################3\n",
    "    \n",
    "    \n",
    "    CNN(90,  87,  77,  10,  61,  90,  400, 500, 1)"
   ]
  },
  {
   "cell_type": "markdown",
   "metadata": {},
   "source": [
    "## MLP model"
   ]
  },
  {
   "cell_type": "code",
   "execution_count": 121,
   "metadata": {},
   "outputs": [
    {
     "name": "stderr",
     "output_type": "stream",
     "text": [
      "C:\\Users\\pymnb\\anaconda3\\lib\\site-packages\\tensorflow\\python\\client\\session.py:1761: UserWarning: An interactive session is already active. This can cause out-of-memory errors in some cases. You must explicitly call `InteractiveSession.close()` to release resources held by the other session(s).\n",
      "  warnings.warn('An interactive session is already active. This can '\n"
     ]
    },
    {
     "name": "stdout",
     "output_type": "stream",
     "text": [
      "Model: \"sequential_46\"\n",
      "_________________________________________________________________\n",
      "Layer (type)                 Output Shape              Param #   \n",
      "=================================================================\n",
      "dense_132 (Dense)            (None, 31)                1240      \n",
      "_________________________________________________________________\n",
      "dense_133 (Dense)            (None, 62)                1984      \n",
      "_________________________________________________________________\n",
      "dense_134 (Dense)            (None, 1)                 63        \n",
      "=================================================================\n",
      "Total params: 3,287\n",
      "Trainable params: 3,287\n",
      "Non-trainable params: 0\n",
      "_________________________________________________________________\n",
      "R2_Training: 0.968959, RMSE_Training : 0.001573\n",
      "R2_Test: 0.963029, RMSE_Test : 0.001820\n"
     ]
    },
    {
     "data": {
      "image/png": "[encoded data removed]",
      "text/plain": [
       "<Figure size 432x288 with 1 Axes>"
      ]
     },
     "metadata": {
      "needs_background": "light"
     },
     "output_type": "display_data"
    },
    {
     "name": "stdout",
     "output_type": "stream",
     "text": [
      "Run Time: 0.0 min\n"
     ]
    }
   ],
   "source": [
    "step = 10\n",
    "Dataset1 = np.concatenate([np.array(Dataset_SOn)[0:70000,0:39], np.array(Dataset_SOn)[0:70000,(39+step-1):(39+step)]], axis = 1)\n",
    "    \n",
    "    \n",
    "########################################## Spitting the dataset ##############################################\n",
    "    \n",
    "import pandas as pd\n",
    "from sklearn.model_selection import train_test_split\n",
    "\n",
    "\n",
    "X = np.array(Dataset1)[:, 0 :39]\n",
    "Y = np.array(Dataset1)[:, 39:40]\n",
    "\n",
    "Xtrain, Xtest, Ytrain, Ytest = train_test_split(X, Y, test_size=0.2)\n",
    "\n",
    "frac_val = 10                                # Enter the fraction of validation set to take from training set \n",
    "nv = Xtrain.shape[0]//frac_val\n",
    "\n",
    "Xval = Xtrain[0:nv,:]\n",
    "Yval = Ytrain[0:nv,:]\n",
    "\n",
    "Xtrain_P = Xtrain[nv:Xtrain.shape[0], :]\n",
    "Ytrain_P = Ytrain[nv:Ytrain.shape[0], :]\n",
    "\n",
    "###################################### Defining the function for CNN ########################################\n",
    "    \n",
    "def MLP(NS1, NS2, Ep, BS, itera): #, partial_xtrain_CNN, partial_ytrain_CNN, xval_CNN, yval_CNN, xtest_CNN, ytest_CN\n",
    "    from tensorflow.keras import Sequential\n",
    "    from tensorflow.keras.layers import Dense\n",
    "    from tensorflow.keras.layers import Flatten\n",
    "    from tensorflow.keras.callbacks import EarlyStopping\n",
    "    from tensorflow.keras.utils import plot_model\n",
    "    from sklearn.metrics import mean_squared_error\n",
    "    from sklearn.metrics import r2_score\n",
    "    import matplotlib.pyplot as plt\n",
    "    from numpy.random import seed\n",
    "\n",
    "    import os\n",
    "    import tensorflow as tf\n",
    "    \n",
    "    from timeit import default_timer as timer\n",
    "    start = timer()\n",
    "    #####################################################################################################\n",
    "    from tensorflow.compat.v1 import ConfigProto, InteractiveSession  #stop the growing RAM for GPU\n",
    "    \n",
    "    config = ConfigProto()\n",
    "    config.gpu_options.allow_growth = True\n",
    "    config.gpu_options.per_process_gpu_memory_fraction = 0.6\n",
    "    sess = InteractiveSession(config=config)\n",
    "    #############################################################################################################\n",
    "    os.environ['PYTHONHASHSEED']=str(1)\n",
    "    np.random.seed(1)\n",
    "        \n",
    "    for _ in range(0,itera):\n",
    "    \n",
    "        start = timer()\n",
    "\n",
    "############################################### Model Built Up ######################################################\n",
    "\n",
    "        model = Sequential()\n",
    "        model.add(Dense(NS1, activation='relu', input_shape = (39, )))\n",
    "        model.add(Dense(NS2, activation='relu'))\n",
    "        model.add(Dense(1))\n",
    "        model.compile(optimizer='adam', loss='mse', metrics=['mean_squared_error'])\n",
    "        model.summary()\n",
    "            \n",
    "        es = EarlyStopping(monitor='val_loss', mode='min', verbose=1, patience=50)\n",
    "    \n",
    "        history = model.fit(Xtrain_P, Ytrain_P, epochs=Ep, batch_size=BS, verbose=0,\\\n",
    "        validation_data=(Xval, Yval), callbacks=[es])\n",
    "            \n",
    "        #model.save('/workspace/myfiles/saves/SO/model_SO'+str(step)+'.h5')\n",
    "        #model.save('/workspace/myfiles/saves/P/model_P'+str(step)+'.h5')\n",
    "            \n",
    "        ypred_train = model.predict(Xtrain_P)\n",
    "        ypred_test = model.predict(Xtest)\n",
    "    \n",
    "        r2_train = r2_score(Ytrain_P, ypred_train)\n",
    "        rmse_train = mean_squared_error(Ytrain_P, ypred_train)\n",
    "            \n",
    "        r2_test = r2_score(Ytest, ypred_test)\n",
    "        rmse_test = mean_squared_error(Ytest, ypred_test)\n",
    "    \n",
    "        print( \"R2_Training: {0:f}, RMSE_Training : {1:f}\".format(r2_train, rmse_train))\n",
    "        print( \"R2_Test: {0:f}, RMSE_Test : {1:f}\".format(r2_test, rmse_test))\n",
    "\n",
    "################################################### plotting #########################################################\n",
    "\n",
    "        plt.plot(history.history['loss'])\n",
    "        plt.plot(history.history['val_loss'])\n",
    "        plt.title('model loss')\n",
    "        plt.ylabel('loss')\n",
    "        plt.xlabel('epoch')\n",
    "        plt.legend(['training loss', 'validation loss'], loc='upper left')\n",
    "        plt.show()\n",
    "\n",
    "        end = timer()\n",
    "        print(\"Run Time: \"+str((end - start)//60)+\" min\")\n",
    "        sess.close()\n",
    "##############################################################################################################3\n",
    "    \n",
    "    \n",
    "MLP(31,  62, 100, 100, 1)"
   ]
  },
  {
   "cell_type": "markdown",
   "metadata": {},
   "source": [
    "## Linear Model"
   ]
  },
  {
   "cell_type": "code",
   "execution_count": 119,
   "metadata": {},
   "outputs": [
    {
     "name": "stdout",
     "output_type": "stream",
     "text": [
      "Model: \"sequential_45\"\n",
      "_________________________________________________________________\n",
      "Layer (type)                 Output Shape              Param #   \n",
      "=================================================================\n",
      "dense_131 (Dense)            (None, 1)                 40        \n",
      "=================================================================\n",
      "Total params: 40\n",
      "Trainable params: 40\n",
      "Non-trainable params: 0\n",
      "_________________________________________________________________\n",
      "R2_Training: 0.796193, RMSE_Training : 0.010196\n",
      "R2_Test: 0.796723, RMSE_Test : 0.010438\n"
     ]
    },
    {
     "data": {
      "image/png": "[encoded data removed]",
      "text/plain": [
       "<Figure size 432x288 with 1 Axes>"
      ]
     },
     "metadata": {
      "needs_background": "light"
     },
     "output_type": "display_data"
    }
   ],
   "source": [
    "#from sklearn.linear_model import LinearRegression\n",
    "from tensorflow.keras import Sequential\n",
    "from tensorflow.keras.layers import Dense\n",
    "import pandas as pd\n",
    "from sklearn.model_selection import train_test_split\n",
    "from tensorflow.keras.callbacks import EarlyStopping\n",
    "from tensorflow.keras.utils import plot_model\n",
    "from sklearn.metrics import mean_squared_error\n",
    "from sklearn.metrics import r2_score\n",
    "import matplotlib.pyplot as plt\n",
    "from numpy.random import seed\n",
    "\n",
    "import os\n",
    "import tensorflow as tf\n",
    "\n",
    "step = 10\n",
    "Dataset1 = np.concatenate([np.array(Dataset_SOn)[0:70000,0:39], np.array(Dataset_SOn)[0:70000,(39+step-1):(39+step)]], axis = 1)\n",
    "\n",
    "X = np.array(Dataset1)[:, 0 :39]\n",
    "Y = np.array(Dataset1)[:, 39:40]\n",
    "\n",
    "Xtrain, Xtest, Ytrain, Ytest = train_test_split(X, Y, test_size=0.2)\n",
    "\n",
    "frac_val = 10                                # Enter the fraction of validation set to take from training set \n",
    "nv = Xtrain.shape[0]//frac_val\n",
    "\n",
    "Xval = Xtrain[0:nv,:]\n",
    "Yval = Ytrain[0:nv,:]\n",
    "\n",
    "Xtrain_P = Xtrain[nv:Xtrain.shape[0], :]\n",
    "Ytrain_P = Ytrain[nv:Ytrain.shape[0], :]\n",
    "\n",
    "model = Sequential([Dense(1, input_shape = (39, ), activation = None )])\n",
    "model.compile(optimizer = 'adam', loss = 'mse')\n",
    "model.summary()\n",
    "#hst = model.fit(XX, YY, batch_size=100, epochs=10, validation_data=(XX_val, yval) )\n",
    "es = EarlyStopping(monitor='val_loss', mode='min', verbose=1, patience=50)\n",
    "history = model.fit(Xtrain_P, Ytrain_P, epochs=100, batch_size=100, verbose=0,\\\n",
    "        validation_data=(Xval, Yval), callbacks=[es])\n",
    "\n",
    "#model.save('/workspace/myfiles/saves/SO/model_SO'+str(step)+'.h5')\n",
    "#model.save('/workspace/myfiles/saves/P/model_P'+str(step)+'.h5')\n",
    "            \n",
    "ypred_train = model.predict(Xtrain_P)\n",
    "ypred_test = model.predict(Xtest)\n",
    "    \n",
    "r2_train = r2_score(Ytrain_P, ypred_train)\n",
    "rmse_train = mean_squared_error(Ytrain_P, ypred_train)\n",
    "            \n",
    "r2_test = r2_score(Ytest, ypred_test)\n",
    "rmse_test = mean_squared_error(Ytest, ypred_test)\n",
    "    \n",
    "print( \"R2_Training: {0:f}, RMSE_Training : {1:f}\".format(r2_train, rmse_train))\n",
    "print( \"R2_Test: {0:f}, RMSE_Test : {1:f}\".format(r2_test, rmse_test))\n",
    "\n",
    "################################################### plotting #########################################################\n",
    "\n",
    "plt.plot(history.history['loss'])\n",
    "plt.plot(history.history['val_loss'])\n",
    "plt.title('model loss')\n",
    "plt.ylabel('loss')\n",
    "plt.xlabel('epoch')\n",
    "plt.legend(['training loss', 'validation loss'], loc='upper left')\n",
    "plt.show()"
   ]
  },
  {
   "cell_type": "markdown",
   "metadata": {},
   "source": [
    "## Test the accuracy of the built model with random LHS points"
   ]
  },
  {
   "cell_type": "code",
   "execution_count": 122,
   "metadata": {},
   "outputs": [],
   "source": [
    "import numpy as np\n",
    "import pandas as pd\n",
    "\n",
    "#x = np.random.randint(low=0, high=5000, size=5).reshape(1,5)\n",
    "\n",
    "#x = np.array([[3614, 3389, 1528, 1873, 4532]])\n",
    "#x = np.array([[1873, 3389, 3614, 4532, 1528]])   # for blind test 1\n",
    "\n",
    "#x = np.array([[308, 2605, 4782,  4399, 4149]])\n",
    "#x = np.array([[4399, 2605, 308, 4149, 4782]])    # for blindtest 2\n",
    " \n",
    "#x = np.array([[3720, 273,  4777, 1937, 2257]])\n",
    "#x = np.array([[1937, 273,  3720, 2257, 4777]])   # for blindtest 3\n",
    "\n",
    "#x = np.array([[2719, 2845, 4478, 3971, 1846]])\n",
    "x = np.array([[3971, 2845, 2719, 1846, 4478]])   # for blindtest 4\n",
    "\n",
    "#x = np.array([[4965, 568,  779, 4472, 4494 ]])\n",
    "#x = np.array([[4472, 568,  4965, 4494, 779 ]])    # for blindtest 5\n",
    "\n",
    "n_models = 20\n",
    "Layer = 1    # Enter the Layer number desired to get output"
   ]
  },
  {
   "cell_type": "code",
   "execution_count": 11,
   "metadata": {},
   "outputs": [],
   "source": [
    "# defining a function to get the text file and expand it\n",
    "\n",
    "def split(a):\n",
    "    import numpy as np\n",
    "    b = a.readlines()\n",
    "    c = [x.replace('\\n','') for x in b]\n",
    "    d = [j for i in c for j in i.split()]\n",
    "    e=[]\n",
    "    for i in d:\n",
    "        if \"*\" in i:\n",
    "            a=[i.split(\"*\")[1]]*int(i.split(\"*\")[0])\n",
    "            e.extend(a)\n",
    "        else:\n",
    "            e.append(i)\n",
    "    f = np.array(e)\n",
    "    g = [float(numeric_string) for numeric_string in f]\n",
    "    h = np.array(g)\n",
    "    return h"
   ]
  },
  {
   "cell_type": "code",
   "execution_count": 12,
   "metadata": {},
   "outputs": [],
   "source": [
    "from tensorflow.keras.models import load_model\n",
    "\n",
    "Dataset_SO_norm = np.loadtxt('/workspace/myfiles/10/10Dataset_SO_Seg')\n",
    "Dataset_P_norm  = np.loadtxt('/workspace/myfiles/10/10Dataset_P_Seg')\n",
    "Min_Max_SO = np.loadtxt('/workspace/myfiles/10/10Min_Max_SO')\n",
    "Min_Max_P = np.loadtxt('/workspace/myfiles/10/10Min_Max_P')\n",
    "actives = np.loadtxt('/workspace/myfiles/10/active_cells_index')\n",
    "actives = actives.astype(np.int64)\n",
    "\n",
    "X = np.repeat(x, 61416, axis=0)\n",
    "X = (X-0)/(5000-0)\n",
    "\n",
    "inputs_SO = np.concatenate([Dataset_SO_norm, X], axis = 1)\n",
    "inputs_P  = np.concatenate([Dataset_P_norm, X], axis = 1)\n",
    "\n",
    "m1 = load_model('/workspace/myfiles/saves/SO/testmodel1.h5')"
   ]
  },
  {
   "cell_type": "code",
   "execution_count": 13,
   "metadata": {},
   "outputs": [],
   "source": [
    "r_PF11B = split(open('//workspace//myfiles//Regions//reg11B.txt','r')).reshape((680400,5),order='F')\n",
    "r_PF12  = split(open('//workspace//myfiles//Regions//reg12.txt','r')).reshape((680400,5),order='F')\n",
    "r_PF14  = split(open('//workspace//myfiles//Regions//reg14.txt','r')).reshape((680400,5),order='F')\n",
    "r_PF1C  = split(open('//workspace//myfiles//Regions//reg1C.txt','r')).reshape((680400,5),order='F')\n",
    "r_PF15C = split(open('//workspace//myfiles//Regions//reg15C.txt','r')).reshape((680400,5),order='F')\n",
    "r_IF5   = split(open('//workspace//myfiles//Regions//regIF5.txt','r')).reshape((680400,5),order='F')\n",
    "r_IF4   = split(open('//workspace//myfiles//Regions//regIF4.txt','r')).reshape((680400,5),order='F')\n",
    "r_IF1B  = split(open('//workspace//myfiles//Regions//reg1B.txt','r')).reshape((680400,5),order='F')\n",
    "\n",
    "DatasetG_SO_norm = np.loadtxt('/workspace/myfiles/10/10Dataset_SO_norm')\n",
    "DatasetG_P_norm  = np.loadtxt('/workspace/myfiles/10/10Dataset_P_norm')"
   ]
  },
  {
   "cell_type": "code",
   "execution_count": 14,
   "metadata": {},
   "outputs": [
    {
     "name": "stdout",
     "output_type": "stream",
     "text": [
      "(826, 1)\n"
     ]
    }
   ],
   "source": [
    "tier = 1      # enter the tier number    1=30 , 2=60, 3=90, 4=120, 5=150\n",
    "\n",
    "ac_PF11B = r_PF11B[:,tier-1:tier][actives]           # remove the aquifer grids\n",
    "ac_PF12  = r_PF12[:,tier-1:tier][actives]\n",
    "ac_PF14  = r_PF14[:,tier-1:tier][actives]\n",
    "ac_PF1C  = r_PF1C[:,tier-1:tier][actives]\n",
    "ac_PF15C = r_PF15C[:,tier-1:tier][actives]\n",
    "ac_IF5   = r_IF5[:,tier-1:tier][actives]\n",
    "ac_IF4   = r_IF4[:,tier-1:tier][actives]\n",
    "ac_IF1B  = r_IF1B[:,tier-1:tier][actives]\n",
    "\n",
    "T_PF11B, T_PF12, T_PF14, T_PF1C, T_PF15C, T_IF5, T_IF4, T_IF1B = np.where(ac_PF11B!=0)[0],\\\n",
    "            np.where(ac_PF12!=0)[0], np.where(ac_PF14!=0)[0], np.where(ac_PF1C!=0)[0], np.where(ac_PF15C!=0)[0],\\\n",
    "            np.where(ac_IF5!=0)[0], np.where(ac_IF4!=0)[0], np.where(ac_IF1B!=0)[0]\n",
    "\n",
    "LOC = np.unique(np.concatenate((T_PF11B,T_PF12, T_PF14, T_PF1C, T_PF15C, T_IF5, T_IF4, T_IF1B),axis = 0))\n",
    "Location = LOC.reshape(LOC.shape[0],1)\n",
    "print(Location.shape)"
   ]
  },
  {
   "cell_type": "code",
   "execution_count": 15,
   "metadata": {},
   "outputs": [],
   "source": [
    "ypred_norm_SO = m1.predict(inputs_SO.reshape(inputs_SO.shape[0], 31, 1))\n",
    "ypred_SO = ypred_norm_SO*(1-0)+0\n",
    "\n",
    "textfile_SO = open('/workspace/myfiles/SO/extra/SOtest4.txt','r')\n",
    "y_real_SO = split(textfile_SO).reshape((108*100*63, 41), order='F')[actives][:,2:41:2]"
   ]
  },
  {
   "cell_type": "code",
   "execution_count": 16,
   "metadata": {},
   "outputs": [
    {
     "name": "stdout",
     "output_type": "stream",
     "text": [
      "(826, 1)\n",
      "(826, 1)\n",
      "R2: 0.977905,   RMSE: 0.000775\n"
     ]
    }
   ],
   "source": [
    "real = y_real_SO[:,0:1]\n",
    "real1 = real[Location].reshape(real[Location].shape[0],1)\n",
    "print(real1.shape)\n",
    "predi = ypred_SO.reshape(ypred_SO.shape[0],1)\n",
    "predi1 = predi[Location].reshape(predi[Location].shape[0],1)\n",
    "print(predi1.shape)\n",
    "from sklearn.metrics import mean_squared_error\n",
    "from sklearn.metrics import r2_score\n",
    "\n",
    "\n",
    "r2_SO = r2_score(real1, predi1)\n",
    "rmse_SO = mean_squared_error(real1, predi1)\n",
    "print( \"R2: {0:f},   RMSE: {1:f}\".format(r2_SO, rmse_SO))"
   ]
  },
  {
   "cell_type": "code",
   "execution_count": null,
   "metadata": {},
   "outputs": [],
   "source": []
  }
 ],
 "metadata": {
  "kernelspec": {
   "display_name": "Python 3",
   "language": "python",
   "name": "python3"
  },
  "language_info": {
   "codemirror_mode": {
    "name": "ipython",
    "version": 3
   },
   "file_extension": ".py",
   "mimetype": "text/x-python",
   "name": "python",
   "nbconvert_exporter": "python",
   "pygments_lexer": "ipython3",
   "version": "3.8.8"
  }
 },
 "nbformat": 4,
 "nbformat_minor": 2
}
